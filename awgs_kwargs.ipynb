{
 "cells": [
  {
   "cell_type": "code",
   "execution_count": 8,
   "id": "a52dadf2",
   "metadata": {},
   "outputs": [],
   "source": [
    "def myfunc(a,b,c=0,d=0):\n",
    "    return sum((a,b,c,d))"
   ]
  },
  {
   "cell_type": "code",
   "execution_count": 9,
   "id": "0f744830",
   "metadata": {},
   "outputs": [
    {
     "data": {
      "text/plain": [
       "100"
      ]
     },
     "execution_count": 9,
     "metadata": {},
     "output_type": "execute_result"
    }
   ],
   "source": [
    "myfunc(10,20,20,50)"
   ]
  },
  {
   "cell_type": "code",
   "execution_count": 10,
   "id": "bb513951",
   "metadata": {},
   "outputs": [
    {
     "ename": "TypeError",
     "evalue": "myfunc() takes 4 positional arguments but 5 were given",
     "output_type": "error",
     "traceback": [
      "\u001b[0;31m---------------------------------------------------------------------------\u001b[0m",
      "\u001b[0;31mTypeError\u001b[0m                                 Traceback (most recent call last)",
      "\u001b[0;32m/var/folders/ds/dkt_h2gn2219lfm62vsy244w0000gn/T/ipykernel_7248/443519495.py\u001b[0m in \u001b[0;36m<module>\u001b[0;34m\u001b[0m\n\u001b[0;32m----> 1\u001b[0;31m \u001b[0mmyfunc\u001b[0m\u001b[0;34m(\u001b[0m\u001b[0;36m10\u001b[0m\u001b[0;34m,\u001b[0m\u001b[0;36m20\u001b[0m\u001b[0;34m,\u001b[0m\u001b[0;36m20\u001b[0m\u001b[0;34m,\u001b[0m\u001b[0;36m50\u001b[0m\u001b[0;34m,\u001b[0m\u001b[0;36m100\u001b[0m\u001b[0;34m)\u001b[0m\u001b[0;34m\u001b[0m\u001b[0;34m\u001b[0m\u001b[0m\n\u001b[0m",
      "\u001b[0;31mTypeError\u001b[0m: myfunc() takes 4 positional arguments but 5 were given"
     ]
    }
   ],
   "source": [
    "myfunc(10,20,20,50,100)"
   ]
  },
  {
   "cell_type": "code",
   "execution_count": 6,
   "id": "f1b5f519",
   "metadata": {},
   "outputs": [
    {
     "data": {
      "text/plain": [
       "30"
      ]
     },
     "execution_count": 6,
     "metadata": {},
     "output_type": "execute_result"
    }
   ],
   "source": [
    "def myfunc1(a,b):\n",
    "    return a+b\n",
    "myfunc1(10,20)"
   ]
  },
  {
   "cell_type": "code",
   "execution_count": 12,
   "id": "8c812787",
   "metadata": {},
   "outputs": [
    {
     "data": {
      "text/plain": [
       "5.0"
      ]
     },
     "execution_count": 12,
     "metadata": {},
     "output_type": "execute_result"
    }
   ],
   "source": [
    "def myfunc3(a,b):\n",
    "    # return the sum of 5%\n",
    "    return sum((a,b)) * 0.05\n",
    "myfunc3(10,90)"
   ]
  },
  {
   "cell_type": "markdown",
   "id": "7eebd142",
   "metadata": {},
   "source": [
    "*args take the arguments from the user and pass them to function as an tuples"
   ]
  },
  {
   "cell_type": "code",
   "execution_count": 13,
   "id": "691a396b",
   "metadata": {},
   "outputs": [
    {
     "data": {
      "text/plain": [
       "5.0"
      ]
     },
     "execution_count": 13,
     "metadata": {},
     "output_type": "execute_result"
    }
   ],
   "source": [
    "def myfunc4(*args):\n",
    "    return sum(args) * 0.05\n",
    "\n",
    "myfunc4(10,10,10,10,10,20,10,20)"
   ]
  },
  {
   "cell_type": "code",
   "execution_count": 14,
   "id": "f9549dd7",
   "metadata": {},
   "outputs": [
    {
     "data": {
      "text/plain": [
       "5.0"
      ]
     },
     "execution_count": 14,
     "metadata": {},
     "output_type": "execute_result"
    }
   ],
   "source": [
    "myfunc4(50,50)"
   ]
  },
  {
   "cell_type": "code",
   "execution_count": 15,
   "id": "58c8e228",
   "metadata": {},
   "outputs": [
    {
     "data": {
      "text/plain": [
       "2.5"
      ]
     },
     "execution_count": 15,
     "metadata": {},
     "output_type": "execute_result"
    }
   ],
   "source": [
    "myfunc4(10,20,20)"
   ]
  },
  {
   "cell_type": "code",
   "execution_count": 16,
   "id": "b70ad074",
   "metadata": {},
   "outputs": [
    {
     "name": "stdout",
     "output_type": "stream",
     "text": [
      "10\n",
      "20\n",
      "30\n",
      "40\n",
      "Hi\n",
      "Hola\n",
      "hello\n",
      "Namaste\n"
     ]
    }
   ],
   "source": [
    "def myfunc5(*args):\n",
    "    for item in args:\n",
    "        print(item)\n",
    "myfunc5(10,20,30,40,\"Hi\",'Hola',\"hello\",\"Namaste\")"
   ]
  },
  {
   "cell_type": "code",
   "execution_count": 18,
   "id": "62f12892",
   "metadata": {},
   "outputs": [
    {
     "name": "stdout",
     "output_type": "stream",
     "text": [
      "(10, 20, 30, 40, 'Hi', 'Hola', 'hello', 'Namaste')\n"
     ]
    }
   ],
   "source": [
    "def myfunc6(*args):\n",
    "    print(args)\n",
    "myfunc6(10,20,30,40,\"Hi\",'Hola',\"hello\",\"Namaste\")"
   ]
  },
  {
   "cell_type": "markdown",
   "id": "90f8a438",
   "metadata": {},
   "source": [
    "**kwargs takes the arguments and then pass them as a dictionary(key,value pairs)"
   ]
  },
  {
   "cell_type": "code",
   "execution_count": 23,
   "id": "ce8c1b64",
   "metadata": {},
   "outputs": [
    {
     "name": "stdout",
     "output_type": "stream",
     "text": [
      "My fav. fruit is apple\n"
     ]
    }
   ],
   "source": [
    "def myfunc7(**kwargs):\n",
    "    if 'fruit' in kwargs:\n",
    "        print(\"My fav. fruit is {}\".format(kwargs['fruit']))\n",
    "    else:\n",
    "        print(\"we don't have the fruit\")\n",
    "myfunc7(fruit='apple',breakfast='Dosa')"
   ]
  },
  {
   "cell_type": "code",
   "execution_count": 25,
   "id": "e948992c",
   "metadata": {},
   "outputs": [
    {
     "name": "stdout",
     "output_type": "stream",
     "text": [
      "{'phone': 'samsung s22', 'price': 59999, 'quantity': 9}\n"
     ]
    }
   ],
   "source": [
    "def myfunc8(**kwargs):\n",
    "    print(kwargs)\n",
    "myfunc8(phone='samsung s22',price=59999,quantity=9)"
   ]
  },
  {
   "cell_type": "code",
   "execution_count": 36,
   "id": "a77e7476",
   "metadata": {},
   "outputs": [
    {
     "name": "stdout",
     "output_type": "stream",
     "text": [
      "{'phone': 'iphone 13', 'price': 59999, 'quantity': 12}\n"
     ]
    }
   ],
   "source": [
    "def myfunc9(**kwargs):\n",
    "    print(kwargs)\n",
    "myfunc8(phone='iphone 13',price=59999,quantity=12)"
   ]
  },
  {
   "cell_type": "code",
   "execution_count": 39,
   "id": "351abb33",
   "metadata": {},
   "outputs": [
    {
     "name": "stdout",
     "output_type": "stream",
     "text": [
      "phone = samsung s22 Galaxy\n",
      "quantity = 3 Galaxy\n",
      "price = 5999 Galaxy\n"
     ]
    }
   ],
   "source": [
    "dict1 = {\"phone\":\"samsung s22\",\"quantity\":3,\"price\":5999}\n",
    "for x,y in dict1.items():\n",
    "    print(f\"{x} = {y} Galaxy\")"
   ]
  },
  {
   "cell_type": "code",
   "execution_count": 40,
   "id": "35ed10c1",
   "metadata": {},
   "outputs": [
    {
     "name": "stdout",
     "output_type": "stream",
     "text": [
      "samsung s22\n",
      "3\n",
      "5999\n"
     ]
    }
   ],
   "source": [
    "for x in dict1.values():\n",
    "    print(x)"
   ]
  },
  {
   "cell_type": "code",
   "execution_count": 41,
   "id": "c534355f",
   "metadata": {},
   "outputs": [
    {
     "name": "stdout",
     "output_type": "stream",
     "text": [
      "phone\n",
      "quantity\n",
      "price\n"
     ]
    }
   ],
   "source": [
    "for x in dict1.keys():\n",
    "    print(x)"
   ]
  },
  {
   "cell_type": "code",
   "execution_count": 42,
   "id": "22d822fb",
   "metadata": {},
   "outputs": [],
   "source": [
    "def myfunc10(*args,**kwargs):\n",
    "    print('I would like {} {}'.format(args[0],kwargs['food']))"
   ]
  },
  {
   "cell_type": "code",
   "execution_count": 43,
   "id": "62a1ad8a",
   "metadata": {},
   "outputs": [
    {
     "name": "stdout",
     "output_type": "stream",
     "text": [
      "I would like 10 eggs\n"
     ]
    }
   ],
   "source": [
    "myfunc10(10,20,30,fruit='orange',food='eggs',animal='cat')"
   ]
  },
  {
   "cell_type": "code",
   "execution_count": 44,
   "id": "17ce5289",
   "metadata": {},
   "outputs": [
    {
     "ename": "SyntaxError",
     "evalue": "positional argument follows keyword argument (106872210.py, line 1)",
     "output_type": "error",
     "traceback": [
      "\u001b[0;36m  File \u001b[0;32m\"/var/folders/ds/dkt_h2gn2219lfm62vsy244w0000gn/T/ipykernel_7248/106872210.py\"\u001b[0;36m, line \u001b[0;32m1\u001b[0m\n\u001b[0;31m    myfunc10(10,20,30,fruit='orange',food='eggs',animal='cat',69)\u001b[0m\n\u001b[0m                                                                ^\u001b[0m\n\u001b[0;31mSyntaxError\u001b[0m\u001b[0;31m:\u001b[0m positional argument follows keyword argument\n"
     ]
    }
   ],
   "source": [
    "myfunc10(10,20,30,fruit='orange',food='eggs',animal='cat',69)"
   ]
  },
  {
   "cell_type": "code",
   "execution_count": null,
   "id": "8f52fd5c",
   "metadata": {},
   "outputs": [],
   "source": []
  }
 ],
 "metadata": {
  "kernelspec": {
   "display_name": "Python 3 (ipykernel)",
   "language": "python",
   "name": "python3"
  },
  "language_info": {
   "codemirror_mode": {
    "name": "ipython",
    "version": 3
   },
   "file_extension": ".py",
   "mimetype": "text/x-python",
   "name": "python",
   "nbconvert_exporter": "python",
   "pygments_lexer": "ipython3",
   "version": "3.9.7"
  }
 },
 "nbformat": 4,
 "nbformat_minor": 5
}
