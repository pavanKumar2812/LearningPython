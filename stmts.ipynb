{
 "cells": [
  {
   "cell_type": "code",
   "execution_count": 1,
   "id": "f929a567",
   "metadata": {},
   "outputs": [],
   "source": [
    "list1 = [1,2,3,4,5,6,7,8,9,\"Hi\",\"Hola\",\"Hello\",\"Namaste\"]"
   ]
  },
  {
   "cell_type": "code",
   "execution_count": 2,
   "id": "70bb6431",
   "metadata": {},
   "outputs": [
    {
     "name": "stdout",
     "output_type": "stream",
     "text": [
      "1\n",
      "2\n",
      "3\n",
      "4\n",
      "5\n",
      "6\n",
      "7\n",
      "8\n",
      "9\n",
      "Hi\n",
      "Hola\n",
      "Hello\n",
      "Namaste\n"
     ]
    }
   ],
   "source": [
    "for i in list1:\n",
    "    print(i)"
   ]
  },
  {
   "cell_type": "code",
   "execution_count": 3,
   "id": "bd03c869",
   "metadata": {},
   "outputs": [
    {
     "name": "stdout",
     "output_type": "stream",
     "text": [
      "Karma\n"
     ]
    }
   ],
   "source": [
    "if True:\n",
    "    print(\"Karma\")\n"
   ]
  },
  {
   "cell_type": "code",
   "execution_count": 4,
   "id": "3fc840ab",
   "metadata": {},
   "outputs": [
    {
     "name": "stdout",
     "output_type": "stream",
     "text": [
      "Feed me!\n"
     ]
    }
   ],
   "source": [
    "myDogHungry = True\n",
    "if myDogHungry:\n",
    "    print(\"Feed me!\")\n",
    "else:\n",
    "    print(\"I'm not hungry\")"
   ]
  },
  {
   "cell_type": "code",
   "execution_count": 8,
   "id": "8eb32d20",
   "metadata": {},
   "outputs": [
    {
     "name": "stdout",
     "output_type": "stream",
     "text": [
      "Can you tell me which OS are you using?LINUX\n",
      "Linux OS\n"
     ]
    }
   ],
   "source": [
    "userOs = input(\"Can you tell me which OS are you using?\")\n",
    "if userOs.lower() == \"mac\":\n",
    "    print(\"macOS Ventura\")\n",
    "elif userOs.lower() == \"linux\":\n",
    "    print(\"Linux OS\")\n",
    "elif userOs.lower() == \"windows\":\n",
    "    print(\"Windows Microsoft\")\n",
    "else:\n",
    "    print(\"choose OS:\\nLinux\\nWindows\\nMac\")"
   ]
  },
  {
   "cell_type": "code",
   "execution_count": 16,
   "id": "a73e138c",
   "metadata": {},
   "outputs": [
    {
     "name": "stdout",
     "output_type": "stream",
     "text": [
      "Odd number: 1\n",
      "2\n",
      "Odd number: 3\n",
      "4\n",
      "Odd number: 5\n",
      "6\n",
      "Odd number: 7\n",
      "8\n",
      "Odd number: 9\n",
      "10\n",
      "Odd number: 11\n",
      "12\n",
      "Odd number: 13\n",
      "14\n",
      "Odd number: 15\n",
      "16\n",
      "Odd number: 17\n",
      "18\n",
      "Odd number: 19\n",
      "20\n",
      "Odd number: 21\n",
      "22\n",
      "Odd number: 23\n",
      "24\n",
      "Odd number: 25\n"
     ]
    }
   ],
   "source": [
    "list2 = []\n",
    "for i in range(1,26):\n",
    "    list2.append(i)\n",
    "    if i % 2 == 0:\n",
    "        print(i)\n",
    "    else:\n",
    "        print(f\"Odd number: {i}\")\n"
   ]
  },
  {
   "cell_type": "code",
   "execution_count": 17,
   "id": "b11dc708",
   "metadata": {},
   "outputs": [],
   "source": [
    "evenNoList = [x for x in list2 if x%2==0 ]"
   ]
  },
  {
   "cell_type": "code",
   "execution_count": 18,
   "id": "50a233d0",
   "metadata": {},
   "outputs": [
    {
     "data": {
      "text/plain": [
       "[2, 4, 6, 8, 10, 12, 14, 16, 18, 20, 22, 24]"
      ]
     },
     "execution_count": 18,
     "metadata": {},
     "output_type": "execute_result"
    }
   ],
   "source": [
    "evenNoList"
   ]
  },
  {
   "cell_type": "code",
   "execution_count": 30,
   "id": "c5987947",
   "metadata": {},
   "outputs": [
    {
     "data": {
      "text/plain": [
       "[1, 2, 3, 4, 5, 6, 7, 8, 9, 'Hi', 'Hola', 'Hello', 'Namaste']"
      ]
     },
     "execution_count": 30,
     "metadata": {},
     "output_type": "execute_result"
    }
   ],
   "source": [
    "list1"
   ]
  },
  {
   "cell_type": "code",
   "execution_count": 28,
   "id": "75b5388f",
   "metadata": {},
   "outputs": [],
   "source": [
    "numberList = [x for x in list1 if type(x) == int]"
   ]
  },
  {
   "cell_type": "code",
   "execution_count": 25,
   "id": "776e395d",
   "metadata": {},
   "outputs": [
    {
     "name": "stdout",
     "output_type": "stream",
     "text": [
      "<class 'str'>\n"
     ]
    }
   ],
   "source": [
    "print(type(numberList[-1]))"
   ]
  },
  {
   "cell_type": "code",
   "execution_count": 29,
   "id": "fef94618",
   "metadata": {},
   "outputs": [
    {
     "data": {
      "text/plain": [
       "[1, 2, 3, 4, 5, 6, 7, 8, 9]"
      ]
     },
     "execution_count": 29,
     "metadata": {},
     "output_type": "execute_result"
    }
   ],
   "source": [
    "numberList"
   ]
  },
  {
   "cell_type": "code",
   "execution_count": 38,
   "id": "15f757a4",
   "metadata": {},
   "outputs": [
    {
     "name": "stdout",
     "output_type": "stream",
     "text": [
      "45\n"
     ]
    }
   ],
   "source": [
    "listsum = 0\n",
    "for x in numberList:\n",
    "    listsum += x\n",
    "    #listsum = listsum +  x\n",
    "\n",
    "print(listsum)"
   ]
  },
  {
   "cell_type": "code",
   "execution_count": 41,
   "id": "5112e302",
   "metadata": {},
   "outputs": [
    {
     "name": "stdout",
     "output_type": "stream",
     "text": [
      "H\n",
      "e\n",
      "l\n",
      "l\n",
      "o\n"
     ]
    },
    {
     "data": {
      "text/plain": [
       "[None, None, None, None, None]"
      ]
     },
     "execution_count": 41,
     "metadata": {},
     "output_type": "execute_result"
    }
   ],
   "source": [
    "myString = \"Hello\"\n",
    "[print(x) for x in myString]"
   ]
  },
  {
   "cell_type": "code",
   "execution_count": 44,
   "id": "9b35ca6e",
   "metadata": {},
   "outputs": [
    {
     "data": {
      "text/plain": [
       "['P', 'a', 'v', 'a', 'n']"
      ]
     },
     "execution_count": 44,
     "metadata": {},
     "output_type": "execute_result"
    }
   ],
   "source": [
    "[x for x in \"Pavan\"]"
   ]
  },
  {
   "cell_type": "code",
   "execution_count": 42,
   "id": "d1bb96f7",
   "metadata": {},
   "outputs": [
    {
     "ename": "SyntaxError",
     "evalue": "invalid syntax (4125337377.py, line 1)",
     "output_type": "error",
     "traceback": [
      "\u001b[1;36m  Input \u001b[1;32mIn [42]\u001b[1;36m\u001b[0m\n\u001b[1;33m    print(x) for x in myString\u001b[0m\n\u001b[1;37m             ^\u001b[0m\n\u001b[1;31mSyntaxError\u001b[0m\u001b[1;31m:\u001b[0m invalid syntax\n"
     ]
    }
   ],
   "source": [
    "print(x) for x in myString"
   ]
  },
  {
   "cell_type": "code",
   "execution_count": 45,
   "id": "a0fca19b",
   "metadata": {},
   "outputs": [
    {
     "name": "stdout",
     "output_type": "stream",
     "text": [
      "Jai Shree Ram\n",
      "Jai Shree Ram\n",
      "Jai Shree Ram\n",
      "Jai Shree Ram\n",
      "Jai Shree Ram\n"
     ]
    }
   ],
   "source": [
    "for _ in range(5):\n",
    "    print(\"Jai Shree Ram\")"
   ]
  },
  {
   "cell_type": "code",
   "execution_count": 48,
   "id": "19109e76",
   "metadata": {},
   "outputs": [
    {
     "name": "stdout",
     "output_type": "stream",
     "text": [
      "1\n",
      "2\n",
      "3\n"
     ]
    }
   ],
   "source": [
    "tup = (1,2,3)\n",
    "\n",
    "for item in tup:\n",
    "    print(item)"
   ]
  },
  {
   "cell_type": "code",
   "execution_count": 50,
   "id": "ced85aa6",
   "metadata": {},
   "outputs": [
    {
     "name": "stdout",
     "output_type": "stream",
     "text": [
      "(1, 2)\n",
      "(3, 4)\n",
      "(5, 6)\n",
      "(7, 8)\n"
     ]
    }
   ],
   "source": [
    "mylist = [(1,2),(3,4),(5,6),(7,8)]\n",
    "\n",
    "for i in mylist:\n",
    "    print(i)"
   ]
  },
  {
   "cell_type": "code",
   "execution_count": 51,
   "id": "85d08a20",
   "metadata": {},
   "outputs": [
    {
     "name": "stdout",
     "output_type": "stream",
     "text": [
      "1\n",
      "2\n",
      "3\n",
      "4\n",
      "5\n",
      "6\n",
      "7\n",
      "8\n"
     ]
    }
   ],
   "source": [
    "for (a,b) in mylist:\n",
    "    print(a)\n",
    "    print(b)"
   ]
  },
  {
   "cell_type": "code",
   "execution_count": 52,
   "id": "d6ebaa20",
   "metadata": {},
   "outputs": [
    {
     "name": "stdout",
     "output_type": "stream",
     "text": [
      "2\n",
      "5\n",
      "8\n"
     ]
    }
   ],
   "source": [
    "mylist = [(1,2,3),(4,5,6),(7,8,9)]\n",
    "\n",
    "for a,b,c in mylist:\n",
    "    print(b)"
   ]
  },
  {
   "cell_type": "code",
   "execution_count": 53,
   "id": "0339d8f0",
   "metadata": {},
   "outputs": [
    {
     "name": "stdout",
     "output_type": "stream",
     "text": [
      "k1\n",
      "k2\n",
      "k3\n"
     ]
    }
   ],
   "source": [
    "d = {\"k1\":1,\"k2\":2,\"k3\":3}\n",
    "for item in d:\n",
    "    print(item)"
   ]
  },
  {
   "cell_type": "code",
   "execution_count": 54,
   "id": "0d90d99d",
   "metadata": {},
   "outputs": [
    {
     "name": "stdout",
     "output_type": "stream",
     "text": [
      "('k1', 1)\n",
      "('k2', 2)\n",
      "('k3', 3)\n"
     ]
    }
   ],
   "source": [
    "for item in d.items():\n",
    "    print(item)"
   ]
  },
  {
   "cell_type": "code",
   "execution_count": 55,
   "id": "243d4150",
   "metadata": {},
   "outputs": [
    {
     "name": "stdout",
     "output_type": "stream",
     "text": [
      "1\n",
      "2\n",
      "3\n"
     ]
    }
   ],
   "source": [
    "for key,value in d.items():\n",
    "    print(value)"
   ]
  },
  {
   "cell_type": "code",
   "execution_count": 56,
   "id": "aab6bdf4",
   "metadata": {},
   "outputs": [
    {
     "name": "stdout",
     "output_type": "stream",
     "text": [
      "1\n",
      "2\n",
      "3\n"
     ]
    }
   ],
   "source": [
    "for value in d.values():\n",
    "    print(value)"
   ]
  },
  {
   "cell_type": "markdown",
   "id": "1afee20a",
   "metadata": {},
   "source": [
    "# While loop"
   ]
  },
  {
   "cell_type": "code",
   "execution_count": 60,
   "id": "39bbf717",
   "metadata": {},
   "outputs": [
    {
     "name": "stdout",
     "output_type": "stream",
     "text": [
      "The current value of x is 0\n",
      "The current value of x is 1\n",
      "The current value of x is 2\n",
      "The current value of x is 3\n",
      "The current value of x is 4\n",
      "x is not less than five\n"
     ]
    }
   ],
   "source": [
    "x = 0\n",
    "\n",
    "while x < 5:\n",
    "    print(f\"The current value of x is {x}\")\n",
    "    x += 1\n",
    "else:\n",
    "    print(\"x is not less than five\")"
   ]
  },
  {
   "cell_type": "raw",
   "id": "12bc2a10",
   "metadata": {},
   "source": [
    "break, continue, pass\n",
    "\n",
    "we can use break continue, and pass statements in our loops to add additional functionality for various cases. The three statements are defined by:\n",
    "\n",
    "    break: Breaks out of the current closest enclosing loop.\n",
    "    continue: Goes to the top of the closest enclosing loop.\n",
    "    pass: Does nothing at all."
   ]
  },
  {
   "cell_type": "code",
   "execution_count": 61,
   "id": "2f2bfbdd",
   "metadata": {},
   "outputs": [
    {
     "data": {
      "text/plain": [
       "[1, 2, 3, 4, 5, 6, 7, 8, 9]"
      ]
     },
     "execution_count": 61,
     "metadata": {},
     "output_type": "execute_result"
    }
   ],
   "source": [
    "numberList"
   ]
  },
  {
   "cell_type": "code",
   "execution_count": 62,
   "id": "f3a1d108",
   "metadata": {},
   "outputs": [
    {
     "ename": "IndentationError",
     "evalue": "expected an indented block (3999432982.py, line 2)",
     "output_type": "error",
     "traceback": [
      "\u001b[1;36m  Input \u001b[1;32mIn [62]\u001b[1;36m\u001b[0m\n\u001b[1;33m    # comment\u001b[0m\n\u001b[1;37m             ^\u001b[0m\n\u001b[1;31mIndentationError\u001b[0m\u001b[1;31m:\u001b[0m expected an indented block\n"
     ]
    }
   ],
   "source": [
    "for i in numberList:\n",
    "    # comment"
   ]
  },
  {
   "cell_type": "code",
   "execution_count": 63,
   "id": "196b7875",
   "metadata": {},
   "outputs": [
    {
     "name": "stdout",
     "output_type": "stream",
     "text": [
      "end of my script\n"
     ]
    }
   ],
   "source": [
    "for i in numberList:\n",
    "    # comment\n",
    "    pass\n",
    "print(\"end of my script\")"
   ]
  },
  {
   "cell_type": "code",
   "execution_count": 66,
   "id": "6c97bc83",
   "metadata": {},
   "outputs": [
    {
     "name": "stdout",
     "output_type": "stream",
     "text": [
      "P\n",
      "v\n",
      "n\n"
     ]
    }
   ],
   "source": [
    "mystring = \"Pavan\"\n",
    "\n",
    "for i in mystring:\n",
    "    if i == \"a\":\n",
    "        continue\n",
    "    print(i)"
   ]
  },
  {
   "cell_type": "code",
   "execution_count": 70,
   "id": "0e16768c",
   "metadata": {},
   "outputs": [
    {
     "name": "stdout",
     "output_type": "stream",
     "text": [
      "0\n",
      "1\n",
      "2\n"
     ]
    }
   ],
   "source": [
    "x = 0\n",
    "\n",
    "while x<5:\n",
    "    if x == 3:\n",
    "        break\n",
    "    print(x)\n",
    "    x += 1"
   ]
  },
  {
   "cell_type": "markdown",
   "id": "c28bc873",
   "metadata": {},
   "source": [
    "## Usefull operators "
   ]
  },
  {
   "cell_type": "code",
   "execution_count": 74,
   "id": "ca452920",
   "metadata": {},
   "outputs": [
    {
     "name": "stdout",
     "output_type": "stream",
     "text": [
      "0\n",
      "1\n",
      "2\n",
      "3\n",
      "4\n"
     ]
    }
   ],
   "source": [
    "for num in range(5):\n",
    "    print(num)"
   ]
  },
  {
   "cell_type": "code",
   "execution_count": 75,
   "id": "3752b53f",
   "metadata": {},
   "outputs": [
    {
     "name": "stdout",
     "output_type": "stream",
     "text": [
      "4\n",
      "6\n",
      "8\n",
      "10\n",
      "12\n",
      "14\n",
      "16\n",
      "18\n",
      "20\n",
      "22\n",
      "24\n"
     ]
    }
   ],
   "source": [
    "for num in range(4,25,2):\n",
    "    print(num)"
   ]
  },
  {
   "cell_type": "code",
   "execution_count": 76,
   "id": "4bc9c1bb",
   "metadata": {},
   "outputs": [
    {
     "data": {
      "text/plain": [
       "range(2, 10, 2)"
      ]
     },
     "execution_count": 76,
     "metadata": {},
     "output_type": "execute_result"
    }
   ],
   "source": [
    "range(2,10,2)"
   ]
  },
  {
   "cell_type": "code",
   "execution_count": 77,
   "id": "044b3c18",
   "metadata": {},
   "outputs": [
    {
     "data": {
      "text/plain": [
       "[2, 4, 6, 8]"
      ]
     },
     "execution_count": 77,
     "metadata": {},
     "output_type": "execute_result"
    }
   ],
   "source": [
    "list(range(2,10,2))"
   ]
  },
  {
   "cell_type": "code",
   "execution_count": 79,
   "id": "159edc2d",
   "metadata": {},
   "outputs": [
    {
     "name": "stdout",
     "output_type": "stream",
     "text": [
      "At index 0 the letter is S\n",
      "At index 1 the letter is H\n",
      "At index 2 the letter is I\n",
      "At index 3 the letter is V\n",
      "At index 4 the letter is A\n"
     ]
    }
   ],
   "source": [
    "index_count = 0\n",
    "\n",
    "for letter in \"SHIVA\":\n",
    "    print(\"At index {} the letter is {}\".format(index_count,letter))\n",
    "    index_count += 1"
   ]
  },
  {
   "cell_type": "code",
   "execution_count": 80,
   "id": "740cd6bd",
   "metadata": {},
   "outputs": [
    {
     "name": "stdout",
     "output_type": "stream",
     "text": [
      "V\n",
      "I\n",
      "S\n",
      "H\n",
      "N\n",
      "U\n"
     ]
    }
   ],
   "source": [
    "index_count = 0\n",
    "word = \"VISHNU\"\n",
    "for letter in word:\n",
    "    print(word[index_count])\n",
    "    index_count += 1"
   ]
  },
  {
   "cell_type": "code",
   "execution_count": 81,
   "id": "14538e1d",
   "metadata": {},
   "outputs": [
    {
     "name": "stdout",
     "output_type": "stream",
     "text": [
      "0 K\n",
      "1 r\n",
      "2 i\n",
      "3 s\n",
      "4 h\n",
      "5 n\n",
      "6 a\n"
     ]
    }
   ],
   "source": [
    "word = \"Krishna\"\n",
    "\n",
    "for index,letter in enumerate(word):\n",
    "    print(index,letter)"
   ]
  },
  {
   "cell_type": "code",
   "execution_count": 88,
   "id": "0ca3b7a2",
   "metadata": {},
   "outputs": [],
   "source": [
    "list11 = [1,2,3]\n",
    "list12 = ['a','b','c']"
   ]
  },
  {
   "cell_type": "code",
   "execution_count": 89,
   "id": "3b34df92",
   "metadata": {},
   "outputs": [
    {
     "data": {
      "text/plain": [
       "<zip at 0x1c20aec1ac0>"
      ]
     },
     "execution_count": 89,
     "metadata": {},
     "output_type": "execute_result"
    }
   ],
   "source": [
    "zip(list11,list12)"
   ]
  },
  {
   "cell_type": "code",
   "execution_count": 90,
   "id": "5d9047a1",
   "metadata": {},
   "outputs": [
    {
     "name": "stdout",
     "output_type": "stream",
     "text": [
      "(1, 'a')\n",
      "(2, 'b')\n",
      "(3, 'c')\n"
     ]
    }
   ],
   "source": [
    "for item in zip(list11,list12):\n",
    "    print(item)"
   ]
  },
  {
   "cell_type": "code",
   "execution_count": 91,
   "id": "dec5e1ad",
   "metadata": {},
   "outputs": [
    {
     "data": {
      "text/plain": [
       "['a', 'b', 'c']"
      ]
     },
     "execution_count": 91,
     "metadata": {},
     "output_type": "execute_result"
    }
   ],
   "source": [
    "list11 = [1,2,3,4,5,6,7,8,9]\n",
    "list12 = ['a','b','c']"
   ]
  },
  {
   "cell_type": "code",
   "execution_count": 92,
   "id": "ab49f9d7",
   "metadata": {},
   "outputs": [
    {
     "name": "stdout",
     "output_type": "stream",
     "text": [
      "(1, 'a')\n",
      "(2, 'b')\n",
      "(3, 'c')\n"
     ]
    }
   ],
   "source": [
    "for item in zip(list11,list12):\n",
    "    print(item)"
   ]
  },
  {
   "cell_type": "code",
   "execution_count": 93,
   "id": "e8a26bb0",
   "metadata": {},
   "outputs": [
    {
     "name": "stdout",
     "output_type": "stream",
     "text": [
      "(1, 'a', 100.61)\n",
      "(2, 'b', 63)\n",
      "(3, 'c', 69)\n"
     ]
    }
   ],
   "source": [
    "list11 = [1,2,3,4,5,6,7,8,9]\n",
    "list12 = ['a','b','c']\n",
    "list13 = [100.61,63,69]\n",
    "\n",
    "for item in zip(list11,list12,list13):\n",
    "    print(item)"
   ]
  },
  {
   "cell_type": "code",
   "execution_count": 95,
   "id": "8877e408",
   "metadata": {},
   "outputs": [
    {
     "name": "stdout",
     "output_type": "stream",
     "text": [
      "100.61\n",
      "63\n",
      "69\n"
     ]
    }
   ],
   "source": [
    "for a,b,c in zip(list11,list12,list13):\n",
    "    print(c)"
   ]
  },
  {
   "cell_type": "code",
   "execution_count": 96,
   "id": "58986227",
   "metadata": {},
   "outputs": [
    {
     "data": {
      "text/plain": [
       "True"
      ]
     },
     "execution_count": 96,
     "metadata": {},
     "output_type": "execute_result"
    }
   ],
   "source": [
    "4 in list11"
   ]
  },
  {
   "cell_type": "code",
   "execution_count": 99,
   "id": "8f304975",
   "metadata": {},
   "outputs": [
    {
     "data": {
      "text/plain": [
       "False"
      ]
     },
     "execution_count": 99,
     "metadata": {},
     "output_type": "execute_result"
    }
   ],
   "source": [
    "x in ['x','y','z']"
   ]
  },
  {
   "cell_type": "code",
   "execution_count": 100,
   "id": "dbc24a1f",
   "metadata": {},
   "outputs": [
    {
     "data": {
      "text/plain": [
       "True"
      ]
     },
     "execution_count": 100,
     "metadata": {},
     "output_type": "execute_result"
    }
   ],
   "source": [
    "\"a\" in \"a world\""
   ]
  },
  {
   "cell_type": "code",
   "execution_count": 101,
   "id": "a7b77156",
   "metadata": {},
   "outputs": [
    {
     "data": {
      "text/plain": [
       "True"
      ]
     },
     "execution_count": 101,
     "metadata": {},
     "output_type": "execute_result"
    }
   ],
   "source": [
    "'mykey' in {'mykey':455}"
   ]
  },
  {
   "cell_type": "code",
   "execution_count": 102,
   "id": "8dfed628",
   "metadata": {},
   "outputs": [
    {
     "data": {
      "text/plain": [
       "True"
      ]
     },
     "execution_count": 102,
     "metadata": {},
     "output_type": "execute_result"
    }
   ],
   "source": [
    "d = {'mykey':355}\n",
    "355 in d.values()"
   ]
  },
  {
   "cell_type": "code",
   "execution_count": 103,
   "id": "d10ece33",
   "metadata": {},
   "outputs": [
    {
     "data": {
      "text/plain": [
       "[1, 2, 3, 4, 5, 6, 7, 8, 9]"
      ]
     },
     "execution_count": 103,
     "metadata": {},
     "output_type": "execute_result"
    }
   ],
   "source": [
    "numberList"
   ]
  },
  {
   "cell_type": "code",
   "execution_count": 104,
   "id": "8c0f3442",
   "metadata": {},
   "outputs": [
    {
     "data": {
      "text/plain": [
       "9"
      ]
     },
     "execution_count": 104,
     "metadata": {},
     "output_type": "execute_result"
    }
   ],
   "source": [
    "max(numberList)"
   ]
  },
  {
   "cell_type": "code",
   "execution_count": 105,
   "id": "e3a8d9b2",
   "metadata": {},
   "outputs": [
    {
     "data": {
      "text/plain": [
       "1"
      ]
     },
     "execution_count": 105,
     "metadata": {},
     "output_type": "execute_result"
    }
   ],
   "source": [
    "min(numberList)"
   ]
  },
  {
   "cell_type": "code",
   "execution_count": 106,
   "id": "f2da8967",
   "metadata": {},
   "outputs": [],
   "source": [
    "from random import shuffle"
   ]
  },
  {
   "cell_type": "code",
   "execution_count": 109,
   "id": "e1c4a24c",
   "metadata": {},
   "outputs": [],
   "source": [
    "mylist = [1,2,3,4,5,6,7,8,9,10,11,12,13,14,15]"
   ]
  },
  {
   "cell_type": "code",
   "execution_count": 110,
   "id": "f46467e4",
   "metadata": {},
   "outputs": [
    {
     "data": {
      "text/plain": [
       "[1, 2, 3, 4, 5, 6, 7, 8, 9, 10, 11, 12, 13, 14, 15]"
      ]
     },
     "execution_count": 110,
     "metadata": {},
     "output_type": "execute_result"
    }
   ],
   "source": [
    "mylist"
   ]
  },
  {
   "cell_type": "code",
   "execution_count": 112,
   "id": "fdc4da4b",
   "metadata": {},
   "outputs": [],
   "source": [
    "shuffle(mylist)"
   ]
  },
  {
   "cell_type": "code",
   "execution_count": 113,
   "id": "85cad16b",
   "metadata": {},
   "outputs": [
    {
     "data": {
      "text/plain": [
       "[15, 9, 6, 7, 12, 14, 5, 11, 10, 8, 2, 13, 3, 1, 4]"
      ]
     },
     "execution_count": 113,
     "metadata": {},
     "output_type": "execute_result"
    }
   ],
   "source": [
    "mylist"
   ]
  },
  {
   "cell_type": "code",
   "execution_count": 114,
   "id": "5e7ff33b",
   "metadata": {},
   "outputs": [],
   "source": [
    "random_list = shuffle(mylist)"
   ]
  },
  {
   "cell_type": "code",
   "execution_count": 115,
   "id": "930efb35",
   "metadata": {},
   "outputs": [],
   "source": [
    "random_list"
   ]
  },
  {
   "cell_type": "code",
   "execution_count": 116,
   "id": "62192c28",
   "metadata": {},
   "outputs": [
    {
     "data": {
      "text/plain": [
       "NoneType"
      ]
     },
     "execution_count": 116,
     "metadata": {},
     "output_type": "execute_result"
    }
   ],
   "source": [
    "type(random_list)"
   ]
  },
  {
   "cell_type": "code",
   "execution_count": 117,
   "id": "10739786",
   "metadata": {},
   "outputs": [],
   "source": [
    "from random import randint"
   ]
  },
  {
   "cell_type": "code",
   "execution_count": 118,
   "id": "686f6a9f",
   "metadata": {},
   "outputs": [
    {
     "data": {
      "text/plain": [
       "22"
      ]
     },
     "execution_count": 118,
     "metadata": {},
     "output_type": "execute_result"
    }
   ],
   "source": [
    "randint(0,61)"
   ]
  },
  {
   "cell_type": "code",
   "execution_count": 119,
   "id": "e3355efb",
   "metadata": {},
   "outputs": [],
   "source": [
    "mynum = randint(1,61)"
   ]
  },
  {
   "cell_type": "code",
   "execution_count": 120,
   "id": "197e725d",
   "metadata": {},
   "outputs": [
    {
     "data": {
      "text/plain": [
       "43"
      ]
     },
     "execution_count": 120,
     "metadata": {},
     "output_type": "execute_result"
    }
   ],
   "source": [
    "mynum"
   ]
  },
  {
   "cell_type": "code",
   "execution_count": 121,
   "id": "7fa76c6c",
   "metadata": {},
   "outputs": [
    {
     "name": "stdout",
     "output_type": "stream",
     "text": [
      "Enter your favorite number: 61\n"
     ]
    }
   ],
   "source": [
    "favNum = input(\"Enter your favorite number: \")"
   ]
  },
  {
   "cell_type": "code",
   "execution_count": 122,
   "id": "70c50878",
   "metadata": {},
   "outputs": [
    {
     "data": {
      "text/plain": [
       "'61'"
      ]
     },
     "execution_count": 122,
     "metadata": {},
     "output_type": "execute_result"
    }
   ],
   "source": [
    "favNum"
   ]
  },
  {
   "cell_type": "code",
   "execution_count": 123,
   "id": "344a2df4",
   "metadata": {},
   "outputs": [
    {
     "data": {
      "text/plain": [
       "str"
      ]
     },
     "execution_count": 123,
     "metadata": {},
     "output_type": "execute_result"
    }
   ],
   "source": [
    "type(favNum)"
   ]
  },
  {
   "cell_type": "code",
   "execution_count": 124,
   "id": "1f7e09e9",
   "metadata": {},
   "outputs": [
    {
     "name": "stdout",
     "output_type": "stream",
     "text": [
      "Enter your favorite number: 69\n"
     ]
    }
   ],
   "source": [
    "favNum = int(input(\"Enter your favorite number: \"))"
   ]
  },
  {
   "cell_type": "code",
   "execution_count": 125,
   "id": "763c60f8",
   "metadata": {},
   "outputs": [
    {
     "data": {
      "text/plain": [
       "int"
      ]
     },
     "execution_count": 125,
     "metadata": {},
     "output_type": "execute_result"
    }
   ],
   "source": [
    "type(favNum)"
   ]
  },
  {
   "cell_type": "markdown",
   "id": "d77ca818",
   "metadata": {},
   "source": [
    "#  List Comprehension"
   ]
  },
  {
   "cell_type": "code",
   "execution_count": 126,
   "id": "e2475efa",
   "metadata": {},
   "outputs": [],
   "source": [
    "myString = \"Lord Vishnu\""
   ]
  },
  {
   "cell_type": "code",
   "execution_count": 135,
   "id": "1b45b7bf",
   "metadata": {},
   "outputs": [
    {
     "name": "stdout",
     "output_type": "stream",
     "text": [
      "['L', 'o', 'r', 'd', ' ', 'V', 'i', 's', 'h', 'n', 'u']\n"
     ]
    }
   ],
   "source": [
    "lst = []\n",
    "\n",
    "for i in myString:\n",
    "    lst.append(i)\n",
    "print(lst)"
   ]
  },
  {
   "cell_type": "code",
   "execution_count": 134,
   "id": "bc6849fd",
   "metadata": {},
   "outputs": [],
   "source": [
    "lst1 = [x for x in myString]"
   ]
  },
  {
   "cell_type": "code",
   "execution_count": 136,
   "id": "29e1ec53",
   "metadata": {},
   "outputs": [
    {
     "data": {
      "text/plain": [
       "['L', 'o', 'r', 'd', ' ', 'V', 'i', 's', 'h', 'n', 'u']"
      ]
     },
     "execution_count": 136,
     "metadata": {},
     "output_type": "execute_result"
    }
   ],
   "source": [
    "lst1"
   ]
  },
  {
   "cell_type": "code",
   "execution_count": 137,
   "id": "eadd6408",
   "metadata": {},
   "outputs": [],
   "source": [
    "numlst = [num**2 for num in range(1,11,1)]"
   ]
  },
  {
   "cell_type": "code",
   "execution_count": 138,
   "id": "09a6aa08",
   "metadata": {},
   "outputs": [
    {
     "data": {
      "text/plain": [
       "[1, 4, 9, 16, 25, 36, 49, 64, 81, 100]"
      ]
     },
     "execution_count": 138,
     "metadata": {},
     "output_type": "execute_result"
    }
   ],
   "source": [
    "numlst"
   ]
  },
  {
   "cell_type": "code",
   "execution_count": 139,
   "id": "403b5a1f",
   "metadata": {},
   "outputs": [],
   "source": [
    "evenlst = [x for x in range(0,11,1) if x%2==0]"
   ]
  },
  {
   "cell_type": "code",
   "execution_count": 140,
   "id": "32021a6b",
   "metadata": {},
   "outputs": [
    {
     "data": {
      "text/plain": [
       "[0, 2, 4, 6, 8, 10]"
      ]
     },
     "execution_count": 140,
     "metadata": {},
     "output_type": "execute_result"
    }
   ],
   "source": [
    "evenlst"
   ]
  },
  {
   "cell_type": "code",
   "execution_count": 141,
   "id": "af478fdc",
   "metadata": {},
   "outputs": [],
   "source": [
    "celcius = [0,10,20,34,45,48]\n",
    "\n",
    "fahrenheit = [( (9/5)*temp + 32 ) for temp in celcius]"
   ]
  },
  {
   "cell_type": "code",
   "execution_count": 142,
   "id": "540d0917",
   "metadata": {},
   "outputs": [
    {
     "data": {
      "text/plain": [
       "[32.0, 50.0, 68.0, 93.2, 113.0, 118.4]"
      ]
     },
     "execution_count": 142,
     "metadata": {},
     "output_type": "execute_result"
    }
   ],
   "source": [
    "fahrenheit"
   ]
  },
  {
   "cell_type": "code",
   "execution_count": 143,
   "id": "e20881f4",
   "metadata": {},
   "outputs": [
    {
     "data": {
      "text/plain": [
       "[32.0, 50.0, 68.0, 93.2, 113.0, 118.4]"
      ]
     },
     "execution_count": 143,
     "metadata": {},
     "output_type": "execute_result"
    }
   ],
   "source": [
    "fahrenheit1 = []\n",
    "\n",
    "for temp in celcius:\n",
    "    fahrenheit1.append( (9/5)*temp + 32 )\n",
    "fahrenheit1   "
   ]
  },
  {
   "cell_type": "code",
   "execution_count": 144,
   "id": "f2ba7dbd",
   "metadata": {},
   "outputs": [
    {
     "data": {
      "text/plain": [
       "[0, 'Odd', 2, 'Odd', 4, 'Odd', 6, 'Odd', 8, 'Odd', 10]"
      ]
     },
     "execution_count": 144,
     "metadata": {},
     "output_type": "execute_result"
    }
   ],
   "source": [
    "results = [x if x%2==0 else 'Odd' for x in range(0,11)]\n",
    "results"
   ]
  },
  {
   "cell_type": "code",
   "execution_count": 146,
   "id": "486fdb62",
   "metadata": {},
   "outputs": [
    {
     "data": {
      "text/plain": [
       "[2, 20, 2000, 3, 30, 3000, 4, 40, 4000]"
      ]
     },
     "execution_count": 146,
     "metadata": {},
     "output_type": "execute_result"
    }
   ],
   "source": [
    "lst9 = []\n",
    "\n",
    "for x in [2,3,4]:\n",
    "    for y in [1,10,1000]:\n",
    "        lst9.append(x*y)\n",
    "lst9"
   ]
  },
  {
   "cell_type": "code",
   "execution_count": 147,
   "id": "30bfe691",
   "metadata": {},
   "outputs": [
    {
     "data": {
      "text/plain": [
       "[2, 20, 2000, 3, 30, 3000, 4, 40, 4000]"
      ]
     },
     "execution_count": 147,
     "metadata": {},
     "output_type": "execute_result"
    }
   ],
   "source": [
    "lst8 = [x*y for x in [2,3,4] for y in [1,10,1000]]\n",
    "lst8"
   ]
  },
  {
   "cell_type": "code",
   "execution_count": null,
   "id": "470b49cf",
   "metadata": {},
   "outputs": [],
   "source": []
  }
 ],
 "metadata": {
  "kernelspec": {
   "display_name": "Python 3 (ipykernel)",
   "language": "python",
   "name": "python3"
  },
  "language_info": {
   "codemirror_mode": {
    "name": "ipython",
    "version": 3
   },
   "file_extension": ".py",
   "mimetype": "text/x-python",
   "name": "python",
   "nbconvert_exporter": "python",
   "pygments_lexer": "ipython3",
   "version": "3.9.12"
  }
 },
 "nbformat": 4,
 "nbformat_minor": 5
}
