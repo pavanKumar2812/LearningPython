{
 "cells": [
  {
   "cell_type": "code",
   "execution_count": 1,
   "id": "a944379e",
   "metadata": {},
   "outputs": [
    {
     "name": "stdout",
     "output_type": "stream",
     "text": [
      "Namaste\n"
     ]
    }
   ],
   "source": [
    "print(\"Namaste\")"
   ]
  },
  {
   "cell_type": "code",
   "execution_count": 2,
   "id": "9875336e",
   "metadata": {},
   "outputs": [
    {
     "name": "stdout",
     "output_type": "stream",
     "text": [
      "5\n",
      "John\n"
     ]
    }
   ],
   "source": [
    "x = 5\n",
    "y = \"Hanuman\"\n",
    "print(x)\n",
    "print(y)"
   ]
  },
  {
   "cell_type": "code",
   "execution_count": 20,
   "id": "f3aac5a1",
   "metadata": {},
   "outputs": [
    {
     "name": "stdout",
     "output_type": "stream",
     "text": [
      "Kalyani Priyadarshan\n"
     ]
    }
   ],
   "source": [
    "x = \"Samantha\"\n",
    "x = \"Kalyani Priyadarshan\"\n",
    "print(x)"
   ]
  },
  {
   "cell_type": "code",
   "execution_count": 15,
   "id": "5b5c5676",
   "metadata": {},
   "outputs": [
    {
     "name": "stdout",
     "output_type": "stream",
     "text": [
      "69.0\n",
      "69\n"
     ]
    }
   ],
   "source": [
    "a = 69;\n",
    "y = 69;\n",
    "xc = str(y)\n",
    "dec = float(a)\n",
    "print(dec)\n",
    "print(xc)"
   ]
  },
  {
   "cell_type": "code",
   "execution_count": 17,
   "id": "ada947b9",
   "metadata": {},
   "outputs": [
    {
     "name": "stdout",
     "output_type": "stream",
     "text": [
      "<class 'str'>\n",
      "<class 'float'>\n",
      "<class 'int'> <class 'int'>\n"
     ]
    }
   ],
   "source": [
    "print(type(xc))\n",
    "print(type(dec))\n",
    "print(f\"{type(a)} {type(y)}\")"
   ]
  },
  {
   "cell_type": "code",
   "execution_count": 19,
   "id": "a9494007",
   "metadata": {},
   "outputs": [
    {
     "name": "stdout",
     "output_type": "stream",
     "text": [
      "<class 'int'> <class 'str'>\n"
     ]
    }
   ],
   "source": [
    "# python is a case sensitive\n",
    "a = 28\n",
    "A = \"Mahadev\"\n",
    "print(f\"{type(28)} {type(A)}\")"
   ]
  },
  {
   "cell_type": "code",
   "execution_count": 20,
   "id": "78228446",
   "metadata": {},
   "outputs": [],
   "source": [
    "# Legal variable names:\n",
    "myvar = \"Pavan\"\n",
    "my_var = \"Pavan\"\n",
    "_my_var = \"Pavan\"\n",
    "myVar = \"Pavan\"\n",
    "MYVAR = \"Pavan\"\n",
    "myvar2 = \"Pavan\""
   ]
  },
  {
   "cell_type": "code",
   "execution_count": 21,
   "id": "a09d28b7",
   "metadata": {},
   "outputs": [
    {
     "ename": "SyntaxError",
     "evalue": "invalid syntax (1350214769.py, line 2)",
     "output_type": "error",
     "traceback": [
      "\u001b[0;36m  File \u001b[0;32m\"/var/folders/ds/dkt_h2gn2219lfm62vsy244w0000gn/T/ipykernel_6887/1350214769.py\"\u001b[0;36m, line \u001b[0;32m2\u001b[0m\n\u001b[0;31m    2myvar = \"John\"\u001b[0m\n\u001b[0m     ^\u001b[0m\n\u001b[0;31mSyntaxError\u001b[0m\u001b[0;31m:\u001b[0m invalid syntax\n"
     ]
    }
   ],
   "source": [
    "# Illegal variable names:\n",
    "2myvar = \"ajay\"\n",
    "my-var = \"ajay\"\n",
    "my var = \"ajay\""
   ]
  },
  {
   "cell_type": "code",
   "execution_count": 23,
   "id": "8798e252",
   "metadata": {},
   "outputs": [
    {
     "name": "stdout",
     "output_type": "stream",
     "text": [
      "mahesh ramesh suresh\n"
     ]
    }
   ],
   "source": [
    "# Assign Multiple Values\n",
    "x,y,z = \"suresh\",\"ramesh\",\"mahesh\"\n",
    "print(f\"{z} {y} {x}\")"
   ]
  },
  {
   "cell_type": "code",
   "execution_count": 46,
   "id": "db106b9e",
   "metadata": {},
   "outputs": [
    {
     "name": "stdout",
     "output_type": "stream",
     "text": [
      "5 Star chocolate advertisement....\n",
      "Suresh Suresh Suresh\n",
      "Ramesh Ramesh Ramesh\n",
      "Suresh Suresh Suresh\n",
      "Ramesh Ramesh Ramesh\n",
      "Suresh Suresh Suresh\n",
      "Ramesh Ramesh Ramesh\n",
      "Do Nothing...!\n"
     ]
    }
   ],
   "source": [
    "# One Value to Multiple Variables\n",
    "print(\"5 Star chocolate advertisement....\")\n",
    "for i in range(3):\n",
    "    x = y = z = \"Suresh\"\n",
    "    print(f\"{z} {y} {x}\")\n",
    "    print(f\"Ramesh Ramesh Ramesh\")\n",
    "print(\"Do Nothing...!\")"
   ]
  },
  {
   "cell_type": "code",
   "execution_count": 32,
   "id": "900ae460",
   "metadata": {},
   "outputs": [
    {
     "name": "stdout",
     "output_type": "stream",
     "text": [
      "Mercedes-Benz in black is awesome. Mercedes GLC is my fav. Tesla is an electric car. \n",
      " BMW m series has a sporty look. Honda provides budget level cars with a good features like city\n"
     ]
    }
   ],
   "source": [
    "# unpacking a collection \n",
    "cars = [\"Mercedes\",\"Tesla\",\"BMW\",\"audi\",\"Honda\"]\n",
    "a,b,c,d,e = cars\n",
    "print(f\"{a}-Benz in black is awesome. Mercedes GLC is my fav. {b} is an electric car. \\n {c} m series has a sporty look. {e} provides budget level cars with a good features like city\")"
   ]
  },
  {
   "cell_type": "code",
   "execution_count": 48,
   "id": "ea2c18a7",
   "metadata": {},
   "outputs": [
    {
     "name": "stdout",
     "output_type": "stream",
     "text": [
      "Python is awesome\n",
      "Pythonisawesome\n",
      "Python is awesome\n"
     ]
    }
   ],
   "source": [
    "x = \"Python\"\n",
    "y = \"is\"\n",
    "z = \"awesome\"\n",
    "print(x, y, z)\n",
    "print(x + y + z)\n",
    "print(x + \" \" + y + \" \" + z)"
   ]
  },
  {
   "cell_type": "code",
   "execution_count": 29,
   "id": "731e8e6b",
   "metadata": {},
   "outputs": [
    {
     "name": "stdout",
     "output_type": "stream",
     "text": [
      "15\n"
     ]
    }
   ],
   "source": [
    "x = 5\n",
    "y = 10\n",
    "print(x + y)"
   ]
  },
  {
   "cell_type": "code",
   "execution_count": 37,
   "id": "c1bc8b82",
   "metadata": {},
   "outputs": [
    {
     "ename": "TypeError",
     "evalue": "unsupported operand type(s) for +: 'int' and 'str'",
     "output_type": "error",
     "traceback": [
      "\u001b[0;31m---------------------------------------------------------------------------\u001b[0m",
      "\u001b[0;31mTypeError\u001b[0m                                 Traceback (most recent call last)",
      "\u001b[0;32m/var/folders/ds/dkt_h2gn2219lfm62vsy244w0000gn/T/ipykernel_8420/4251629729.py\u001b[0m in \u001b[0;36m<module>\u001b[0;34m\u001b[0m\n\u001b[1;32m      1\u001b[0m \u001b[0mx\u001b[0m \u001b[0;34m=\u001b[0m \u001b[0;36m5\u001b[0m\u001b[0;34m\u001b[0m\u001b[0;34m\u001b[0m\u001b[0m\n\u001b[1;32m      2\u001b[0m \u001b[0my\u001b[0m \u001b[0;34m=\u001b[0m \u001b[0;34m\"meow\"\u001b[0m\u001b[0;34m\u001b[0m\u001b[0;34m\u001b[0m\u001b[0m\n\u001b[0;32m----> 3\u001b[0;31m \u001b[0mprint\u001b[0m\u001b[0;34m(\u001b[0m\u001b[0mx\u001b[0m \u001b[0;34m+\u001b[0m \u001b[0my\u001b[0m\u001b[0;34m)\u001b[0m\u001b[0;34m\u001b[0m\u001b[0;34m\u001b[0m\u001b[0m\n\u001b[0m",
      "\u001b[0;31mTypeError\u001b[0m: unsupported operand type(s) for +: 'int' and 'str'"
     ]
    }
   ],
   "source": [
    "x = 5\n",
    "y = \"meow\"\n",
    "print(x + y)"
   ]
  },
  {
   "cell_type": "code",
   "execution_count": 27,
   "id": "3b3796e2",
   "metadata": {},
   "outputs": [
    {
     "name": "stdout",
     "output_type": "stream",
     "text": [
      "star chocolate star chocolate star chocolate star chocolate star chocolate \n",
      "5 star chocolate \n"
     ]
    }
   ],
   "source": [
    "print(x*y)\n",
    "x = 5\n",
    "y = \"star chocolate \"\n",
    "print(x, y)"
   ]
  },
  {
   "cell_type": "code",
   "execution_count": 35,
   "id": "952ab9fd",
   "metadata": {},
   "outputs": [
    {
     "name": "stdout",
     "output_type": "stream",
     "text": [
      "loveToBeTechM\n"
     ]
    }
   ],
   "source": [
    "# global variables\n",
    "x = \"loveToBeTechM\"\n",
    "\n",
    "def techM():\n",
    "    print(x)\n",
    "\n",
    "techM()"
   ]
  },
  {
   "cell_type": "code",
   "execution_count": 38,
   "id": "feba78bd",
   "metadata": {},
   "outputs": [
    {
     "name": "stdout",
     "output_type": "stream",
     "text": [
      "Hi Tony I'm in local space, so I'm winner....Dr.Strange\n"
     ]
    }
   ],
   "source": [
    "x = \"Tony Stark\"\n",
    "\n",
    "def marvel():\n",
    "    x = \"Dr.Strange\"\n",
    "    print(f\"Hi Tony I'm in local space, so I'm winner....{x}\")\n",
    "marvel()"
   ]
  },
  {
   "cell_type": "code",
   "execution_count": 39,
   "id": "0ef60e0e",
   "metadata": {},
   "outputs": [
    {
     "name": "stdout",
     "output_type": "stream",
     "text": [
      "Hi Thanos now I've all stones I'll destroy you by global keyword haha...... Tony Stark\n",
      "love you 3000 by Tony Stark :)\n"
     ]
    }
   ],
   "source": [
    "x = \"Thanos\"\n",
    "\n",
    "def ironMan():\n",
    "    global x \n",
    "    x =\"Tony Stark\"\n",
    "    print(f\"Hi Thanos now I've all stones I'll destroy you by global keyword haha...... {x}\")\n",
    "\n",
    "ironMan()\n",
    "print(f\"love you 3000 by {x} :)\")\n"
   ]
  },
  {
   "cell_type": "markdown",
   "id": "85c2309d",
   "metadata": {},
   "source": [
    "'''\n",
    "Python has the following data types built-in by default, in these categories:\n",
    "\n",
    "Text Type:  str\n",
    "Numeric Types:  int, float, complex\n",
    "Sequence Types:  list, tuple, range\n",
    "Mapping Type:  dict\n",
    "Set Types:  set, frozenset\n",
    "Boolean Type:  bool\n",
    "Binary Types:  bytes, bytearray, memoryview\n",
    "None Type:  NoneType\n",
    "\n",
    "we can get the data type of any object by using the type() function\n",
    "'''"
   ]
  },
  {
   "cell_type": "code",
   "execution_count": 60,
   "id": "d541a657",
   "metadata": {},
   "outputs": [
    {
     "name": "stdout",
     "output_type": "stream",
     "text": [
      "Hello World - <class 'str'>\n",
      "20 - <class 'int'>\n",
      "20.5 - <class 'float'>\n",
      "1j - <class 'complex'>\n",
      "['apple', 'banana', 'cherry'] - <class 'list'>\n",
      "('apple', 'banana', 'cherry') - <class 'tuple'>\n",
      "{'name': 'John', 'age': 36} - <class 'dict'>\n",
      "{'apple', 'banana', 'cherry'} - <class 'set'>\n",
      "frozenset({'apple', 'banana', 'cherry'}) - <class 'frozenset'>\n",
      "True - <class 'bool'>\n",
      "b'Hello' - <class 'bytes'>\n",
      "bytearray(b'\\x00\\x00\\x00\\x00\\x00') - <class 'bytearray'>\n",
      "<memory at 0x7f89a8062040> - <class 'memoryview'>\n",
      "None - <class 'NoneType'>\n"
     ]
    }
   ],
   "source": [
    "x = \"Hello World\"\n",
    "print(f\"{x} - {type(x)}\")\n",
    "x = 20\n",
    "print(f\"{x} - {type(x)}\")\n",
    "x = 20.5\n",
    "print(f\"{x} - {type(x)}\")\n",
    "x = 1j\n",
    "print(f\"{x} - {type(x)}\")\n",
    "x = [\"apple\", \"banana\", \"cherry\"]\n",
    "print(f\"{x} - {type(x)}\")\n",
    "x = (\"apple\", \"banana\", \"cherry\")\n",
    "print(f\"{x} - {type(x)}\")\n",
    "x = range(6)\n",
    "x = {\"name\" : \"John\", \"age\" : 36}\n",
    "print(f\"{x} - {type(x)}\")\n",
    "x = {\"apple\", \"banana\", \"cherry\"}\n",
    "print(f\"{x} - {type(x)}\")\n",
    "x = frozenset({\"apple\", \"banana\", \"cherry\"})\n",
    "print(f\"{x} - {type(x)}\")\n",
    "x = True\n",
    "print(f\"{x} - {type(x)}\")\n",
    "x = b\"Hello\"\n",
    "print(f\"{x} - {type(x)}\")\n",
    "x = bytearray(5)\n",
    "print(f\"{x} - {type(x)}\")\n",
    "x = memoryview(bytes(5))\n",
    "print(f\"{x} - {type(x)}\")\n",
    "x = None\n",
    "print(f\"{x} - {type(x)}\")\n"
   ]
  },
  {
   "cell_type": "code",
   "execution_count": 15,
   "id": "36fe221a",
   "metadata": {},
   "outputs": [
    {
     "name": "stdout",
     "output_type": "stream",
     "text": [
      "Hello World                                        <class 'str'>\n",
      "20                                        <class 'int'>\n",
      "20.5                                        <class 'float'>\n",
      "1j                                        <class 'complex'>\n",
      "['apple', 'banana', 'cherry']                                        <class 'list'>\n",
      "('apple', 'banana', 'cherry')                                        <class 'tuple'>\n",
      "{'name': 'John', 'age': 36}                                        <class 'dict'>\n",
      "{'banana', 'apple', 'cherry'}                                        <class 'set'>\n",
      "frozenset({'banana', 'apple', 'cherry'})                                        <class 'frozenset'>\n",
      "True                                        <class 'bool'>\n",
      "b'Hello'                                        <class 'bytes'>\n",
      "bytearray(b'\\x00\\x00\\x00\\x00\\x00')                                        <class 'bytearray'>\n",
      "<memory at 0x7fc209c9c100>                                        <class 'memoryview'>\n",
      "None                                        <class 'NoneType'>\n"
     ]
    }
   ],
   "source": [
    "data = [\"Hello World\",20,20.5,1j,['apple', 'banana', 'cherry'],('apple', 'banana', 'cherry'),\n",
    "       {'name': 'John', 'age': 36}, {'apple', 'banana', 'cherry'},frozenset({\"apple\", \"banana\", \"cherry\"}),\n",
    "        True,b\"Hello\",bytearray(5),memoryview(bytes(5)),None\n",
    "       ]\n",
    "\n",
    "for i in data:\n",
    "    print(f\"{i}                                        {type(i)}\")\n"
   ]
  },
  {
   "cell_type": "code",
   "execution_count": 62,
   "id": "5064d5b2",
   "metadata": {},
   "outputs": [
    {
     "name": "stdout",
     "output_type": "stream",
     "text": [
      "Jai Shree Ram\n",
      "Jai Shree Ram\n"
     ]
    }
   ],
   "source": [
    "# strings\n",
    "print(\"Jai Shree Ram\")\n",
    "print('Jai Shree Ram')"
   ]
  },
  {
   "cell_type": "code",
   "execution_count": 63,
   "id": "68d41f66",
   "metadata": {},
   "outputs": [
    {
     "name": "stdout",
     "output_type": "stream",
     "text": [
      "\n",
      "Lorem ipsum dolor sit amet,\n",
      "consectetur adipiscing elit,\n",
      "sed do eiusmod tempor incididunt\n",
      "ut labore et dolore magna aliqua.\n",
      "\n"
     ]
    }
   ],
   "source": [
    "a = \"\"\"\n",
    "Lorem ipsum dolor sit amet,\n",
    "consectetur adipiscing elit,\n",
    "sed do eiusmod tempor incididunt\n",
    "ut labore et dolore magna aliqua.\n",
    "\"\"\"\n",
    "print(a)"
   ]
  },
  {
   "cell_type": "code",
   "execution_count": 64,
   "id": "5402bf5d",
   "metadata": {},
   "outputs": [
    {
     "name": "stdout",
     "output_type": "stream",
     "text": [
      "\n",
      "Lorem ipsum dolor sit amet,\n",
      "consectetur adipiscing elit,\n",
      "sed do eiusmod tempor incididunt\n",
      "ut labore et dolore magna aliqua.\n",
      "\n"
     ]
    }
   ],
   "source": [
    "a = '''\n",
    "Lorem ipsum dolor sit amet,\n",
    "consectetur adipiscing elit,\n",
    "sed do eiusmod tempor incididunt\n",
    "ut labore et dolore magna aliqua.\n",
    "'''\n",
    "print(a)"
   ]
  },
  {
   "cell_type": "code",
   "execution_count": 69,
   "id": "f1f82ebd",
   "metadata": {},
   "outputs": [
    {
     "name": "stdout",
     "output_type": "stream",
     "text": [
      "hari krishna 🙏 hare rama\n",
      "22\n"
     ]
    }
   ],
   "source": [
    "a = \"hari krishna hare rama\"\n",
    "print(a[0:12]+\" 🙏 \"+a[13:])\n",
    "print(len(a))"
   ]
  },
  {
   "cell_type": "code",
   "execution_count": 70,
   "id": "4ccd72ef",
   "metadata": {},
   "outputs": [
    {
     "name": "stdout",
     "output_type": "stream",
     "text": [
      "R\n",
      "a\n",
      "v\n",
      "a\n",
      "n\n",
      "a\n",
      "s\n",
      "u\n",
      "r\n",
      "u\n",
      "d\n",
      "u\n"
     ]
    }
   ],
   "source": [
    "for i in \"Ravanasurudu\":\n",
    "    print(i)"
   ]
  },
  {
   "cell_type": "code",
   "execution_count": 73,
   "id": "c9778a89",
   "metadata": {},
   "outputs": [
    {
     "name": "stdout",
     "output_type": "stream",
     "text": [
      "False\n",
      "True\n"
     ]
    }
   ],
   "source": [
    "txt = \"Rama is said to have been born to Kaushalya and Dasharatha in Ayodhya, the ruler of the Kingdom of Kosala. His siblings included Lakshmana, Bharata, and Shatrughna. He married Sita. Though born in a royal family, their life is described in the Hindu texts as one challenged by unexpected changes such as an exile into impoverished and difficult circumstances, ethical questions and moral dilemmas.\"\n",
    "print(\"sita\" in txt)\n",
    "print(\"Sita\" in txt)"
   ]
  },
  {
   "cell_type": "code",
   "execution_count": 77,
   "id": "63c722c3",
   "metadata": {},
   "outputs": [
    {
     "name": "stdout",
     "output_type": "stream",
     "text": [
      "Jai Siya Ram\n",
      "Ravana\n"
     ]
    }
   ],
   "source": [
    "txt = \"Rama is said to have been born to Kaushalya and Dasharatha in Ayodhya, the ruler of the Kingdom of Kosala. His siblings included Lakshmana, Bharata, and Shatrughna. He married Sita. Though born in a royal family, their life is described in the Hindu texts as one challenged by unexpected changes such as an exile into impoverished and difficult circumstances, ethical questions and moral dilemmas.\"\n",
    "if \"Sita\" in txt:\n",
    "    print(\"Jai Siya Ram\")\n",
    "else:\n",
    "    print(\"Ravana\")\n",
    "    \n",
    "if \"sita\" in txt:\n",
    "    print(\"Jai Siya Ram\")\n",
    "else:\n",
    "    print(\"Ravana\")"
   ]
  },
  {
   "cell_type": "code",
   "execution_count": 78,
   "id": "81c76c1b",
   "metadata": {},
   "outputs": [
    {
     "name": "stdout",
     "output_type": "stream",
     "text": [
      "\n",
      "            Jai Hanuman gyan gun sagar,\n",
      "            Jai Kapis tihun lok ujagar,\n",
      "            Ram doot atulit bal dhama,\n",
      "            Anjani putra Pavan sut nama\n",
      "        \n"
     ]
    }
   ],
   "source": [
    "txt = \"Rama is said to have been born to Kaushalya and Dasharatha in Ayodhya, the ruler of the Kingdom of Kosala. His siblings included Lakshmana, Bharata, and Shatrughna. He married Sita. Though born in a royal family, their life is described in the Hindu texts as one challenged by unexpected changes such as an exile into impoverished and difficult circumstances, ethical questions and moral dilemmas.\"\n",
    "if \"Hanuman\" not in txt:\n",
    "    print(\"\"\"\n",
    "            Jai Hanuman gyan gun sagar,\n",
    "            Jai Kapis tihun lok ujagar,\n",
    "            Ram doot atulit bal dhama,\n",
    "            Anjani putra Pavan sut nama\n",
    "        \"\"\")"
   ]
  },
  {
   "cell_type": "code",
   "execution_count": 5,
   "id": "f607a30a",
   "metadata": {},
   "outputs": [
    {
     "name": "stdout",
     "output_type": "stream",
     "text": [
      "devaraya\n",
      "devaraya\n",
      "krishna\n"
     ]
    }
   ],
   "source": [
    "b = \"krishnadevaraya\"\n",
    "print(b[-8:])\n",
    "print(b[7:])\n",
    "print(b[0:7])"
   ]
  },
  {
   "cell_type": "code",
   "execution_count": 15,
   "id": "9d018ec6",
   "metadata": {
    "scrolled": true
   },
   "outputs": [
    {
     "name": "stdout",
     "output_type": "stream",
     "text": [
      "TENALI RAMAKRISHNA\n",
      "tenali ramakrishna\n",
      "Tenali Ramakrishna was an Indian poet,scholar, thinker and a special advisor in the court of the Vijayanagar king \n",
      "Krishnadevaraya, who ruled from C.E. 1509 to 1529.\n"
     ]
    }
   ],
   "source": [
    "a = \"Tenali Ramakrishna\"\n",
    "print(a.upper())\n",
    "print(a.lower())\n",
    "b = \"\"\"       Tenali Ramakrishna was an Indian poet,scholar, thinker and a special advisor in the court of the Vijayanagar king \n",
    "Krishnadevaraya, who ruled from C.E. 1509 to 1529.     \"\"\"\n",
    "# the strip() method removes whitespaces from beginning or the end\n",
    "print(b.strip())"
   ]
  },
  {
   "cell_type": "code",
   "execution_count": 16,
   "id": "e864df40",
   "metadata": {},
   "outputs": [
    {
     "name": "stdout",
     "output_type": "stream",
     "text": [
      "AshwAthAmA\n"
     ]
    }
   ],
   "source": [
    "# Replace string\n",
    "a = \"ashwathama\"\n",
    "print(a.replace(\"a\",\"A\"))"
   ]
  },
  {
   "cell_type": "code",
   "execution_count": 23,
   "id": "6c477040",
   "metadata": {},
   "outputs": [
    {
     "name": "stdout",
     "output_type": "stream",
     "text": [
      "['Hello', ' World!']\n"
     ]
    }
   ],
   "source": [
    "a = \"Hello, World!\"\n",
    "print(a.split(\",\"))"
   ]
  },
  {
   "cell_type": "code",
   "execution_count": 24,
   "id": "327f868a",
   "metadata": {},
   "outputs": [
    {
     "name": "stdout",
     "output_type": "stream",
     "text": [
      "Tenali Rama was a Telugu poet and advisor in the court of King Krishnadevaraya, in what is now known as Andhra Pradesh. \n"
     ]
    }
   ],
   "source": [
    "# format string\n",
    "language = \"Telugu\"\n",
    "state = \"Andhra Pradesh\"\n",
    "print(f\"Tenali Rama was a {language} poet and advisor in the court of King Krishnadevaraya, in what is now known as {state}. \")"
   ]
  },
  {
   "cell_type": "code",
   "execution_count": 27,
   "id": "53e32ded",
   "metadata": {},
   "outputs": [
    {
     "name": "stdout",
     "output_type": "stream",
     "text": [
      "I want Idly and Vada with sambar, please give more chutney...\n"
     ]
    }
   ],
   "source": [
    "item1 = \"Idly\"\n",
    "item2 = \"Vada\"\n",
    "item3 = \"chutney\"\n",
    "myorder = \"I want {} and {} with sambar, please give more {}...\"\n",
    "print(myorder.format(item1,item2,item3))"
   ]
  },
  {
   "cell_type": "code",
   "execution_count": 29,
   "id": "4a5810cd",
   "metadata": {},
   "outputs": [
    {
     "name": "stdout",
     "output_type": "stream",
     "text": [
      "I want Dosa and Vada with sambar, please give more chutney...\n"
     ]
    }
   ],
   "source": [
    "item1 = \"Dosa\"\n",
    "item2 = \"Vada\"\n",
    "item3 = \"chutney\"\n",
    "myorder = \"I want {0} and {1} with sambar, please give more {2}...\"\n",
    "print(myorder.format(item1,item2,item3))"
   ]
  },
  {
   "cell_type": "code",
   "execution_count": 30,
   "id": "d3d58b7c",
   "metadata": {},
   "outputs": [
    {
     "name": "stdout",
     "output_type": "stream",
     "text": [
      "Modi is the 14th and current \"prime minister\" of India, serving since 26 May 2014.\n"
     ]
    }
   ],
   "source": [
    "# Escape Character\n",
    "\n",
    "pm = \"Modi is the 14th and current \\\"prime minister\\\" of India, serving since 26 May 2014.\"\n",
    "print(pm)"
   ]
  },
  {
   "cell_type": "code",
   "execution_count": 31,
   "id": "f737e52f",
   "metadata": {},
   "outputs": [
    {
     "name": "stdout",
     "output_type": "stream",
     "text": [
      "Modi launch 'Swachh Bharat Mission' in 2014\n"
     ]
    }
   ],
   "source": [
    "mission = \"Modi launch 'Swachh Bharat Mission' in 2014\"\n",
    "print(mission)"
   ]
  },
  {
   "cell_type": "code",
   "execution_count": 32,
   "id": "07dd5844",
   "metadata": {},
   "outputs": [
    {
     "name": "stdout",
     "output_type": "stream",
     "text": [
      "\"Delhi\" is a captial of India\n"
     ]
    }
   ],
   "source": [
    "mission = '\"Delhi\" is a captial of India'\n",
    "print(mission)"
   ]
  },
  {
   "cell_type": "code",
   "execution_count": 33,
   "id": "2b460c8b",
   "metadata": {},
   "outputs": [
    {
     "name": "stdout",
     "output_type": "stream",
     "text": [
      "True\n",
      "True\n",
      "True\n"
     ]
    }
   ],
   "source": [
    "print(bool(\"vikramaditya\"))\n",
    "print(bool(2812))\n",
    "print(bool([\"Modi\",\"Putin\",\"Mr. Xi Jinping\"]))"
   ]
  },
  {
   "cell_type": "code",
   "execution_count": 34,
   "id": "bd6e4067",
   "metadata": {},
   "outputs": [
    {
     "name": "stdout",
     "output_type": "stream",
     "text": [
      "False\n",
      "False\n",
      "False\n",
      "False\n",
      "False\n",
      "False\n",
      "False\n"
     ]
    }
   ],
   "source": [
    "print(bool(False))\n",
    "print(bool(\"\"))\n",
    "print(bool(0))\n",
    "print(bool(None))\n",
    "print(bool(()))\n",
    "print(bool([]))\n",
    "print(bool({}))"
   ]
  },
  {
   "cell_type": "code",
   "execution_count": 36,
   "id": "363e2374",
   "metadata": {},
   "outputs": [
    {
     "name": "stdout",
     "output_type": "stream",
     "text": [
      "False\n"
     ]
    }
   ],
   "source": [
    "class my_class():\n",
    "    def __len__(self):\n",
    "        return 0;\n",
    "\n",
    "myObj = my_class()\n",
    "print(bool(myObj))"
   ]
  },
  {
   "cell_type": "code",
   "execution_count": 39,
   "id": "7ef884b3",
   "metadata": {},
   "outputs": [
    {
     "name": "stdout",
     "output_type": "stream",
     "text": [
      "True\n",
      "Yes\n"
     ]
    }
   ],
   "source": [
    "def myFunction():\n",
    "    return True\n",
    "\n",
    "print(myFunction())\n",
    "\n",
    "if myFunction():\n",
    "    print(\"Yes\")\n",
    "else:\n",
    "    print(\"No\")"
   ]
  },
  {
   "cell_type": "code",
   "execution_count": 40,
   "id": "fe383ffa",
   "metadata": {},
   "outputs": [
    {
     "name": "stdout",
     "output_type": "stream",
     "text": [
      "True\n",
      "False\n"
     ]
    }
   ],
   "source": [
    "x = 2812\n",
    "print(isinstance(x,int))\n",
    "print(isinstance(x,float))"
   ]
  },
  {
   "cell_type": "markdown",
   "id": "da9d7c75",
   "metadata": {},
   "source": [
    "List : List are used to store multiple values in a single variable \n",
    "List are created using square blackets\n",
    "List are one of the 4 built-in data type in python used to store collection of data, the other 3 are Tuples,Set and dictionary\n",
    "It allows duplicates"
   ]
  },
  {
   "cell_type": "code",
   "execution_count": 42,
   "id": "77ce758f",
   "metadata": {},
   "outputs": [
    {
     "name": "stdout",
     "output_type": "stream",
     "text": [
      "['Sony', 'LG', 'ONIDA', 'Samsung']\n",
      "4\n"
     ]
    }
   ],
   "source": [
    "thelist = [\"Sony\",\"LG\",\"ONIDA\",\"Samsung\"]\n",
    "print(thelist)\n",
    "print(len(thelist))"
   ]
  },
  {
   "cell_type": "markdown",
   "id": "80a87efa",
   "metadata": {},
   "source": [
    "                                      Python Collections (Arrays)\n",
    "There are four collection data types in the Python programming language:\n",
    "\n",
    "-> List is a collection which is ordered and changeable. Allows duplicate members.\n",
    "\n",
    "-> Tuple is a collection which is ordered and unchangeable. Allows duplicate members.\n",
    "\n",
    "-> Set is a collection which is unordered, unchangeable*, and unindexed. No duplicate members.\n",
    "\n",
    "-> Dictionary is a collection which is ordered** and changeable. No duplicate members.\n"
   ]
  },
  {
   "cell_type": "code",
   "execution_count": 55,
   "id": "6627fca9",
   "metadata": {},
   "outputs": [
    {
     "name": "stdout",
     "output_type": "stream",
     "text": [
      "['iphone', 'Samsung A series', 'OnePlus', 'Mi']\n",
      "['iphone', 'Samsung s22 series', 'Samsung A series', 'OnePlus', 'Mi']\n",
      "['iphone', 'Samsung s22 series', 'Samsung A series', 'OnePlus']\n",
      "['Samsung s22 series', 'Samsung A series', 'OnePlus']\n",
      "['Samsung s22 series', 'Samsung A series']\n",
      "['Samsung s22 series']\n",
      "['Samsung s22 series', 'Duke 200', 'Bullet', 'Contenental GT', 'Shine', 'Honda Activa']\n",
      "[]\n"
     ]
    }
   ],
   "source": [
    "thelist1 = [\"iphone\",\"Samsung A series\",\"OnePlus\"]\n",
    "thelist1.append(\"Mi\")\n",
    "print(thelist1)\n",
    "\n",
    "thelist1.insert(1,\"Samsung s22 series\")\n",
    "print(thelist1)\n",
    "\n",
    "thelist1.remove(\"Mi\")\n",
    "print(thelist1)\n",
    "\n",
    "thelist1.pop(0)\n",
    "print(thelist1)\n",
    "\n",
    "thelist1.pop()\n",
    "print(thelist1)\n",
    "\n",
    "del thelist1[1]\n",
    "print(thelist1)\n",
    "\n",
    "bike = [\"Duke 200\",\"Bullet\",\"Contenental GT\",\"Shine\",\"Honda Activa\"]\n",
    "for i in bike:\n",
    "    thelist1.append(i)\n",
    "print(thelist1)\n",
    "\n",
    "del bike\n",
    "# print(bike) gives error because it is delete\n",
    "\n",
    "thelist1.clear()\n",
    "print(thelist1)"
   ]
  },
  {
   "cell_type": "code",
   "execution_count": 1,
   "id": "b17f035d",
   "metadata": {},
   "outputs": [
    {
     "name": "stdout",
     "output_type": "stream",
     "text": [
      "Good night py 22-12-2022 :)\n"
     ]
    }
   ],
   "source": [
    "print(\"Good night py 22-12-2022 :)\")"
   ]
  },
  {
   "cell_type": "code",
   "execution_count": 2,
   "id": "3089ab55",
   "metadata": {},
   "outputs": [
    {
     "name": "stdout",
     "output_type": "stream",
     "text": [
      "Namaste\n",
      "Namaskaram\n"
     ]
    }
   ],
   "source": [
    "class Item():\n",
    "    pass\n",
    "\n",
    "item1 = Item()\n",
    "random_variable = str(\"Namaste\")\n",
    "# the above line code is equivalent to\n",
    "random_var = \"Namaskaram\"\n",
    "print(random_variable)\n",
    "print(random_var)"
   ]
  },
  {
   "cell_type": "code",
   "execution_count": 3,
   "id": "4b235f6a",
   "metadata": {},
   "outputs": [
    {
     "name": "stdout",
     "output_type": "stream",
     "text": [
      "<class '__main__.Item'>\n",
      "<class 'str'>\n",
      "<class 'int'>\n",
      "<class 'str'>\n",
      "<class 'int'>\n"
     ]
    }
   ],
   "source": [
    "class Item():\n",
    "    pass\n",
    "\n",
    "item1 = Item()\n",
    "item1.name = \"iphone 13\"\n",
    "item1.price = 75000\n",
    "item1.brand = \"Apple\"\n",
    "item1.quantity = 69\n",
    "\n",
    "print(type(item1))\n",
    "print(type(item1.name))\n",
    "print(type(item1.price))\n",
    "print(type(item1.brand))\n",
    "print(type(item1.quantity))"
   ]
  },
  {
   "cell_type": "code",
   "execution_count": 4,
   "id": "aea2c814",
   "metadata": {},
   "outputs": [
    {
     "name": "stdout",
     "output_type": "stream",
     "text": [
      "AAA\n"
     ]
    }
   ],
   "source": [
    "random_str = \"aaa\"\n",
    "print(random_str.upper())"
   ]
  },
  {
   "cell_type": "code",
   "execution_count": 9,
   "id": "4c0f5a0b",
   "metadata": {},
   "outputs": [
    {
     "name": "stdout",
     "output_type": "stream",
     "text": [
      "5175000\n",
      "720000\n"
     ]
    }
   ],
   "source": [
    "class Item():\n",
    "    def calculate_total_price(self,x,y):\n",
    "        return x * y\n",
    "\n",
    "item1 = Item()\n",
    "item1.name = \"iphone 13\"\n",
    "item1.price = 75000\n",
    "item1.brand = \"Apple\"\n",
    "item1.quantity = 69\n",
    "print(item1.calculate_total_price(item1.price,item1.quantity))\n",
    "\n",
    "item2 = Item()\n",
    "item2.name = \"samsung s22\"\n",
    "item2.price = 72000\n",
    "item2.brand = \"Samsung\"\n",
    "item2.quantity = 10\n",
    "print(item2.calculate_total_price(item2.price,item2.quantity))\n"
   ]
  },
  {
   "cell_type": "code",
   "execution_count": 19,
   "id": "66681880",
   "metadata": {},
   "outputs": [
    {
     "name": "stdout",
     "output_type": "stream",
     "text": [
      "Honda\n",
      "BMW\n"
     ]
    }
   ],
   "source": [
    "class Cars():\n",
    "    def __init__(self,name: str ,model: str,fuelType: str,color: str,price: int):\n",
    "        # print(f\"An instance is created: {name}\")\n",
    "        self.name = name\n",
    "        self.model = model\n",
    "        self.fuelType = fuelType\n",
    "        self.color = color\n",
    "        self.price = price\n",
    "        \n",
    "\n",
    "car1 = Cars(8,\"City\",\"Petrol\",\"White\",1700000);\n",
    "\n",
    "car2 = Cars(\"BMW\",\"M2\",\"Petrol\",\"Blue\",1000000);\n",
    "\n",
    "print(car1.name)\n",
    "print(car2.name)\n"
   ]
  },
  {
   "cell_type": "code",
   "execution_count": 41,
   "id": "d7f9b875",
   "metadata": {},
   "outputs": [
    {
     "name": "stdout",
     "output_type": "stream",
     "text": [
      "0.8\n",
      "0.8\n",
      "0.8\n"
     ]
    }
   ],
   "source": [
    "class Item():\n",
    "    pay_rate = 0.8 # The pay rate after 20% discount\n",
    "    def __init__(self,name: str,model: str,price: int,quantity = 0):\n",
    "        \n",
    "        # Run validations to the received arguments\n",
    "        assert price >= 0, f\"Price {price} is !>= 0\"\n",
    "        assert quantity >= 0, f\"Price {price} is !>= 0\"\n",
    "        \n",
    "        # Assign the self object\n",
    "        self.name = name\n",
    "        self.model = model\n",
    "        self.price = price\n",
    "        self.quantity = quantity\n",
    "    def calculate_total_price(self):\n",
    "        return self.price * self.quantity\n",
    "\n",
    "item1 = Item(\"Phone\",\"iphone\",72000,16)\n",
    "item2 = Item(\"PC\",\"Mac M2\",97000,6)\n",
    "\n",
    "print(Item.pay_rate)\n",
    "print(item1.pay_rate)\n",
    "print(item2.pay_rate)"
   ]
  },
  {
   "cell_type": "code",
   "execution_count": 2,
   "id": "f0b3b3a8",
   "metadata": {},
   "outputs": [
    {
     "name": "stdout",
     "output_type": "stream",
     "text": [
      "('Honda City', 'BMW M2', 'Mercedes benz')\n"
     ]
    },
    {
     "ename": "AttributeError",
     "evalue": "'tuple' object has no attribute 'append'",
     "output_type": "error",
     "traceback": [
      "\u001b[0;31m---------------------------------------------------------------------------\u001b[0m",
      "\u001b[0;31mAttributeError\u001b[0m                            Traceback (most recent call last)",
      "\u001b[0;32m/var/folders/ds/dkt_h2gn2219lfm62vsy244w0000gn/T/ipykernel_9125/1605651146.py\u001b[0m in \u001b[0;36m<module>\u001b[0;34m\u001b[0m\n\u001b[1;32m      2\u001b[0m \u001b[0mprint\u001b[0m\u001b[0;34m(\u001b[0m\u001b[0mtup\u001b[0m\u001b[0;34m)\u001b[0m\u001b[0;34m\u001b[0m\u001b[0;34m\u001b[0m\u001b[0m\n\u001b[1;32m      3\u001b[0m \u001b[0;31m# tup[0] = \"TATA\" gives error\u001b[0m\u001b[0;34m\u001b[0m\u001b[0;34m\u001b[0m\u001b[0m\n\u001b[0;32m----> 4\u001b[0;31m \u001b[0mtup\u001b[0m\u001b[0;34m.\u001b[0m\u001b[0mappend\u001b[0m\u001b[0;34m(\u001b[0m\u001b[0;34m\"TATA\"\u001b[0m\u001b[0;34m)\u001b[0m\u001b[0;34m\u001b[0m\u001b[0;34m\u001b[0m\u001b[0m\n\u001b[0m",
      "\u001b[0;31mAttributeError\u001b[0m: 'tuple' object has no attribute 'append'"
     ]
    }
   ],
   "source": [
    "tup = (\"Honda City\",\"BMW M2\",\"Mercedes benz\",\"BMW M2\")\n",
    "print(tup)\n",
    "# tup[0] = \"TATA\" gives error\n",
    "tup.append(\"TATA\")\n"
   ]
  },
  {
   "cell_type": "code",
   "execution_count": 9,
   "id": "0c7667af",
   "metadata": {},
   "outputs": [
    {
     "name": "stdout",
     "output_type": "stream",
     "text": [
      "I am created\n",
      "Namaste item is added to card Samsung S22\n"
     ]
    }
   ],
   "source": [
    "class Item:\n",
    "    def __init__(self,name):\n",
    "        print(\"I am created\")\n",
    "        self.name = name\n",
    "    def sayHi(self):\n",
    "        print(\"Namaste item is added to card\",self.name)\n",
    "item1 = Item(\"Samsung S22\")\n",
    "item1.sayHi()"
   ]
  },
  {
   "cell_type": "code",
   "execution_count": null,
   "id": "e71bef2a",
   "metadata": {},
   "outputs": [],
   "source": []
  }
 ],
 "metadata": {
  "kernelspec": {
   "display_name": "Python 3 (ipykernel)",
   "language": "python",
   "name": "python3"
  },
  "language_info": {
   "codemirror_mode": {
    "name": "ipython",
    "version": 3
   },
   "file_extension": ".py",
   "mimetype": "text/x-python",
   "name": "python",
   "nbconvert_exporter": "python",
   "pygments_lexer": "ipython3",
   "version": "3.9.7"
  }
 },
 "nbformat": 4,
 "nbformat_minor": 5
}
